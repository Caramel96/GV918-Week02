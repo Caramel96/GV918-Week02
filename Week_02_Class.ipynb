{
  "nbformat": 4,
  "nbformat_minor": 0,
  "metadata": {
    "colab": {
      "name": "Week 02 Class.ipynb",
      "provenance": [],
      "collapsed_sections": [],
      "toc_visible": true
    },
    "kernelspec": {
      "name": "python3",
      "display_name": "Python 3"
    }
  },
  "cells": [
    {
      "cell_type": "markdown",
      "metadata": {
        "id": "IVijStwRXqOm"
      },
      "source": [
        "# Week 02 Class: Exercises"
      ]
    },
    {
      "cell_type": "markdown",
      "metadata": {
        "id": "iIXp1gtxEDGP"
      },
      "source": [
        "In this exercise, we will review python basics. "
      ]
    },
    {
      "cell_type": "markdown",
      "metadata": {
        "id": "p7g-vh9GXuHa"
      },
      "source": [
        "## Variables\n"
      ]
    },
    {
      "cell_type": "markdown",
      "metadata": {
        "id": "EtXJ1CbJfDMP"
      },
      "source": [
        "### Create variables"
      ]
    },
    {
      "cell_type": "markdown",
      "metadata": {
        "id": "Il7w4ZyJekgD"
      },
      "source": [
        "Let's start with a very simple exercise of creating new variables\n",
        "\n",
        "\n",
        "\n",
        "1.   Variable called var_a with value of 3\n",
        "2.   Variable called var_b with value of 100\n",
        "3.   String variable str_var_a with value of \"GV918\"\n",
        "4.   String variable str_var_a with value of \"Data for Social Data Science\"\n",
        "\n",
        "\n"
      ]
    },
    {
      "cell_type": "code",
      "metadata": {
        "id": "I-Uhpjn4fmlq"
      },
      "source": [
        "var_a = 3"
      ],
      "execution_count": 13,
      "outputs": []
    },
    {
      "cell_type": "code",
      "metadata": {
        "id": "tXvudlWKYiWq"
      },
      "source": [
        "var_b = 100 \n"
      ],
      "execution_count": 14,
      "outputs": []
    },
    {
      "cell_type": "code",
      "metadata": {
        "id": "uLj-B9c8Yj9w"
      },
      "source": [
        "str_var_a = \"GV918\"\n"
      ],
      "execution_count": 15,
      "outputs": []
    },
    {
      "cell_type": "code",
      "metadata": {
        "id": "e9fFNiKLYl5t"
      },
      "source": [
        "str_var_b = \"Data for Scoial Science\""
      ],
      "execution_count": 16,
      "outputs": []
    },
    {
      "cell_type": "markdown",
      "metadata": {
        "id": "n4edwXaTfX5C"
      },
      "source": [
        "### Variable operations"
      ]
    },
    {
      "cell_type": "markdown",
      "metadata": {
        "id": "Jx-VgZXhft4_"
      },
      "source": [
        "\n",
        "\n",
        "*   Add var_a and var_b\n",
        "*   Subtract var_a from var_b\n",
        "*   Multiply var_a and var_b\n",
        "*   Divide var_b by var_a\n",
        "\n"
      ]
    },
    {
      "cell_type": "code",
      "metadata": {
        "id": "F38MqMvggGHY",
        "outputId": "54c34704-bdf5-4371-c0e9-05f14c600add",
        "colab": {
          "base_uri": "https://localhost:8080/",
          "height": 34
        }
      },
      "source": [
        "var_a + var_b"
      ],
      "execution_count": 20,
      "outputs": [
        {
          "output_type": "execute_result",
          "data": {
            "text/plain": [
              "103"
            ]
          },
          "metadata": {
            "tags": []
          },
          "execution_count": 20
        }
      ]
    },
    {
      "cell_type": "code",
      "metadata": {
        "id": "8WyGQBhRYqy0",
        "outputId": "1b97e9f2-2ce6-487d-d78b-1aaa685195d6",
        "colab": {
          "base_uri": "https://localhost:8080/",
          "height": 34
        }
      },
      "source": [
        "var_a - var_b\n"
      ],
      "execution_count": 17,
      "outputs": [
        {
          "output_type": "execute_result",
          "data": {
            "text/plain": [
              "-97"
            ]
          },
          "metadata": {
            "tags": []
          },
          "execution_count": 17
        }
      ]
    },
    {
      "cell_type": "code",
      "metadata": {
        "id": "9kxq-MEhYsEM",
        "outputId": "93d781ad-931a-4e44-af3b-ce20c383a040",
        "colab": {
          "base_uri": "https://localhost:8080/",
          "height": 34
        }
      },
      "source": [
        "var_a * var_b\n"
      ],
      "execution_count": 18,
      "outputs": [
        {
          "output_type": "execute_result",
          "data": {
            "text/plain": [
              "300"
            ]
          },
          "metadata": {
            "tags": []
          },
          "execution_count": 18
        }
      ]
    },
    {
      "cell_type": "code",
      "metadata": {
        "id": "t-LMVURyYvXU",
        "outputId": "f331f6f6-297d-4e14-b3cf-afee7259c6ca",
        "colab": {
          "base_uri": "https://localhost:8080/",
          "height": 34
        }
      },
      "source": [
        "var_b / var_a"
      ],
      "execution_count": 19,
      "outputs": [
        {
          "output_type": "execute_result",
          "data": {
            "text/plain": [
              "33.333333333333336"
            ]
          },
          "metadata": {
            "tags": []
          },
          "execution_count": 19
        }
      ]
    },
    {
      "cell_type": "markdown",
      "metadata": {
        "id": "daqr2BXlRO_u"
      },
      "source": [
        "## Saving on Github\n",
        "\n",
        "- Before going to the next section, let's save the work on github."
      ]
    },
    {
      "cell_type": "markdown",
      "metadata": {
        "id": "u0HUK1lQbEb4"
      },
      "source": [
        "## Lists"
      ]
    },
    {
      "cell_type": "markdown",
      "metadata": {
        "id": "WW78ZY6yjbT6"
      },
      "source": [
        "### Create lists"
      ]
    },
    {
      "cell_type": "markdown",
      "metadata": {
        "id": "Mdq_SIg9gOMg"
      },
      "source": [
        "1. Create a list, list_a, with values of 1, 3, 4, 5, 9, 2, 4.5\n",
        "2. Create a list, list_b, with words from \"this is a simple string list\" \n",
        "  - You can type all or use `*.split` method"
      ]
    },
    {
      "cell_type": "code",
      "metadata": {
        "id": "QllZLPMabmsD"
      },
      "source": [
        "list_a = [1, 3, 4, 5, 9, 2, 4.5]"
      ],
      "execution_count": 31,
      "outputs": []
    },
    {
      "cell_type": "code",
      "metadata": {
        "id": "V7STLgKGbC7j"
      },
      "source": [
        "list_b = [\"this\", \"is\", \"a\", \"simple\", \"list\"]"
      ],
      "execution_count": 28,
      "outputs": []
    },
    {
      "cell_type": "code",
      "metadata": {
        "id": "XpGIua4ja_hs",
        "outputId": "e9b3cc81-b0e9-4450-a795-d19dbc6c0fd1",
        "colab": {
          "base_uri": "https://localhost:8080/",
          "height": 34
        }
      },
      "source": [
        "list_a"
      ],
      "execution_count": 26,
      "outputs": [
        {
          "output_type": "execute_result",
          "data": {
            "text/plain": [
              "[1, 3, 4, 5, 9, 2, 5.5]"
            ]
          },
          "metadata": {
            "tags": []
          },
          "execution_count": 26
        }
      ]
    },
    {
      "cell_type": "markdown",
      "metadata": {
        "id": "CPo-xxVmjfUL"
      },
      "source": [
        "### Slicing lists"
      ]
    },
    {
      "cell_type": "markdown",
      "metadata": {
        "id": "XZyEmoCpjjdU"
      },
      "source": [
        "- From the first list, extract a sublist with elements of:\n",
        "    -   1, 3, 4\n",
        "    -   9, 2, 4.5\n",
        "    -   4, 5, 9\n"
      ]
    },
    {
      "cell_type": "code",
      "metadata": {
        "id": "5JTxUTdnjep3",
        "outputId": "e4f9519e-59e0-47f0-e989-f2319f9f1022",
        "colab": {
          "base_uri": "https://localhost:8080/",
          "height": 34
        }
      },
      "source": [
        "list_a[0:5]"
      ],
      "execution_count": 29,
      "outputs": [
        {
          "output_type": "execute_result",
          "data": {
            "text/plain": [
              "[1, 3, 4, 5, 9]"
            ]
          },
          "metadata": {
            "tags": []
          },
          "execution_count": 29
        }
      ]
    },
    {
      "cell_type": "code",
      "metadata": {
        "id": "G9a_4KDxbcQm",
        "outputId": "1ba5077b-518b-41dd-8062-009a85f822f8",
        "colab": {
          "base_uri": "https://localhost:8080/",
          "height": 34
        }
      },
      "source": [
        "list_a[4:7]"
      ],
      "execution_count": 33,
      "outputs": [
        {
          "output_type": "execute_result",
          "data": {
            "text/plain": [
              "[9, 2, 4.5]"
            ]
          },
          "metadata": {
            "tags": []
          },
          "execution_count": 33
        }
      ]
    },
    {
      "cell_type": "code",
      "metadata": {
        "id": "LINg04DQcANU",
        "outputId": "c612d008-c986-4abd-a474-8e2dd15f2672",
        "colab": {
          "base_uri": "https://localhost:8080/",
          "height": 34
        }
      },
      "source": [
        "list_a[2:5]"
      ],
      "execution_count": 35,
      "outputs": [
        {
          "output_type": "execute_result",
          "data": {
            "text/plain": [
              "[4, 5, 9]"
            ]
          },
          "metadata": {
            "tags": []
          },
          "execution_count": 35
        }
      ]
    },
    {
      "cell_type": "markdown",
      "metadata": {
        "id": "egyAtr0slWVG"
      },
      "source": [
        "## Manipulating lists"
      ]
    },
    {
      "cell_type": "markdown",
      "metadata": {
        "id": "vZQJxYrbldyl"
      },
      "source": [
        "- Append an element (e.g. 100) to list_a\n",
        "- Replace the second element of list_a to 12"
      ]
    },
    {
      "cell_type": "code",
      "metadata": {
        "id": "rJ9u0rbXEyzA"
      },
      "source": [
        "\n",
        "list_a[1] = 12"
      ],
      "execution_count": 38,
      "outputs": []
    },
    {
      "cell_type": "code",
      "metadata": {
        "id": "VhI4DS0Ccmao",
        "outputId": "52cdaf62-0421-4777-e686-90a4641a4674",
        "colab": {
          "base_uri": "https://localhost:8080/",
          "height": 34
        }
      },
      "source": [
        "list_a.append(100)\n",
        "\n",
        "list_a"
      ],
      "execution_count": 40,
      "outputs": [
        {
          "output_type": "execute_result",
          "data": {
            "text/plain": [
              "[1, 12, 4, 5, 9, 2, 4.5, 100, 100]"
            ]
          },
          "metadata": {
            "tags": []
          },
          "execution_count": 40
        }
      ]
    },
    {
      "cell_type": "markdown",
      "metadata": {
        "id": "Zf1GnnLE5ECS"
      },
      "source": [
        "### Concatenate lists"
      ]
    },
    {
      "cell_type": "markdown",
      "metadata": {
        "id": "jAgDA5GL5HuC"
      },
      "source": [
        "- Concatenate list_a and list_b\n",
        "- Use `+`"
      ]
    },
    {
      "cell_type": "code",
      "metadata": {
        "id": "MFA23E1H5HO2",
        "outputId": "7aaa1e10-a708-423e-95ef-bc77dc7707ac",
        "colab": {
          "base_uri": "https://localhost:8080/",
          "height": 34
        }
      },
      "source": [
        "list_a + list_b"
      ],
      "execution_count": 41,
      "outputs": [
        {
          "output_type": "execute_result",
          "data": {
            "text/plain": [
              "[1, 12, 4, 5, 9, 2, 4.5, 100, 100, 'this', 'is', 'a', 'simple', 'list']"
            ]
          },
          "metadata": {
            "tags": []
          },
          "execution_count": 41
        }
      ]
    },
    {
      "cell_type": "markdown",
      "metadata": {
        "id": "Y_Ovr2NB7R_V"
      },
      "source": [
        "### Copying lists"
      ]
    },
    {
      "cell_type": "markdown",
      "metadata": {
        "id": "mYaM6Za77cq1"
      },
      "source": [
        "Do the following operations\n",
        "- Assign `lsit_a` to `list_a2`\n",
        "- Change the value of `list_a2[0]` to 7\n",
        "- Check the value of `list_a` and `list_a2`\n",
        "\n",
        "What do you find? "
      ]
    },
    {
      "cell_type": "code",
      "metadata": {
        "id": "0l6ZdhMiE1NK",
        "outputId": "74abefe1-2474-464e-9b0a-5659a70ed166",
        "colab": {
          "base_uri": "https://localhost:8080/",
          "height": 51
        }
      },
      "source": [
        "list_a2 = list_a\n",
        "\n",
        "list_a2[0] = 7\n",
        "print(list_a)\n",
        "print(list_a2)"
      ],
      "execution_count": 46,
      "outputs": [
        {
          "output_type": "stream",
          "text": [
            "[7, 12, 4, 5, 9, 2, 4.5, 100, 100]\n",
            "[7, 12, 4, 5, 9, 2, 4.5, 100, 100]\n"
          ],
          "name": "stdout"
        }
      ]
    },
    {
      "cell_type": "markdown",
      "metadata": {
        "id": "kF_f4TLg-RAT"
      },
      "source": [
        "## Dictionary"
      ]
    },
    {
      "cell_type": "markdown",
      "metadata": {
        "id": "LBbTHliu-U2A"
      },
      "source": [
        "- create a dictionary with the follwoing key-value pairs\n",
        "    *   a: 10\n",
        "    *   b: 20\n",
        "    *   c: 70n\n",
        "- add some new key and value\n",
        "\n"
      ]
    },
    {
      "cell_type": "code",
      "metadata": {
        "id": "myq61b4x-i2c"
      },
      "source": [
        "new_dic = {\"a\": 10, \"b\": 20, \"c\": \"70n\", \"d\": 5.7}"
      ],
      "execution_count": 60,
      "outputs": []
    },
    {
      "cell_type": "markdown",
      "metadata": {
        "id": "69H-MRgibxQe"
      },
      "source": [
        "## (Optional) String operation"
      ]
    },
    {
      "cell_type": "markdown",
      "metadata": {
        "id": "xciWhwD-hmd7"
      },
      "source": [
        "### Concatenation"
      ]
    },
    {
      "cell_type": "markdown",
      "metadata": {
        "id": "CyHZ3qdchNTf"
      },
      "source": [
        "Let's do some string operation"
      ]
    },
    {
      "cell_type": "code",
      "metadata": {
        "id": "SuTa8GiWbyy7"
      },
      "source": [
        "str_1 = \"Hello\"\n",
        "str_2 = \"world\"\n",
        "str_3 = \"!\""
      ],
      "execution_count": 62,
      "outputs": []
    },
    {
      "cell_type": "markdown",
      "metadata": {
        "id": "EUySRJKhhZen"
      },
      "source": [
        "How to concateneate them to craete \"Hello world?\"\n",
        "[https://www.w3schools.com/python/python_strings.asp](https://www.w3schools.com/python/python_strings.asp)"
      ]
    },
    {
      "cell_type": "code",
      "metadata": {
        "id": "u1Xs5Xbnhiiw",
        "outputId": "376d3897-b5f7-41ea-dd3c-312e0f31f36b",
        "colab": {
          "base_uri": "https://localhost:8080/",
          "height": 35
        }
      },
      "source": [
        "str_1 + \" \" + str_2 + str_3"
      ],
      "execution_count": 64,
      "outputs": [
        {
          "output_type": "execute_result",
          "data": {
            "application/vnd.google.colaboratory.intrinsic+json": {
              "type": "string"
            },
            "text/plain": [
              "'Hello world!'"
            ]
          },
          "metadata": {
            "tags": []
          },
          "execution_count": 64
        }
      ]
    },
    {
      "cell_type": "markdown",
      "metadata": {
        "id": "AaOIR7PlhqaF"
      },
      "source": [
        "### Formatting\n",
        "\n",
        "Read the section of **String Format** and try to generate \"Today is 13-10-2020\""
      ]
    },
    {
      "cell_type": "code",
      "metadata": {
        "id": "XMN4BABMiHdc"
      },
      "source": [
        "year = 2020\n",
        "month = 10\n",
        "date = 13\n",
        "fill_str = \"Today is ...\" ## this part has to be changed"
      ],
      "execution_count": 65,
      "outputs": []
    },
    {
      "cell_type": "code",
      "metadata": {
        "id": "_YVEujFbiJ2D"
      },
      "source": [
        "fill_str = \"Today is {}-{}-{}\""
      ],
      "execution_count": 73,
      "outputs": []
    },
    {
      "cell_type": "code",
      "metadata": {
        "id": "zB41w9xNg6xy",
        "outputId": "e329ae39-0c4c-4505-b650-718ea5f37148",
        "colab": {
          "base_uri": "https://localhost:8080/",
          "height": 34
        }
      },
      "source": [
        "print(fill_str.format(date, month, year))"
      ],
      "execution_count": 74,
      "outputs": [
        {
          "output_type": "stream",
          "text": [
            "Today is 13-10-2020\n"
          ],
          "name": "stdout"
        }
      ]
    },
    {
      "cell_type": "code",
      "metadata": {
        "id": "wAlAJu6XhkPa"
      },
      "source": [
        ""
      ],
      "execution_count": null,
      "outputs": []
    }
  ]
}